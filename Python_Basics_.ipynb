{
  "nbformat": 4,
  "nbformat_minor": 0,
  "metadata": {
    "colab": {
      "provenance": []
    },
    "kernelspec": {
      "name": "python3",
      "display_name": "Python 3"
    },
    "language_info": {
      "name": "python"
    }
  },
  "cells": [
    {
      "cell_type": "markdown",
      "source": [
        "#Python Basics Assignment"
      ],
      "metadata": {
        "id": "P_Pclle9yxSU"
      }
    },
    {
      "cell_type": "markdown",
      "source": [
        "1. What is Python, and why is it popular?"
      ],
      "metadata": {
        "id": "DpvAlSADy7Sx"
      }
    },
    {
      "cell_type": "markdown",
      "source": [
        "=>  Python is a  programming language known for its clear syntax and\n",
        "    readability, meaning code is executed line by line, making it easier to debug. Python supports  object-oriented, and functional programming.\n",
        "    Why Python is because it is;\n",
        "   * Beginner-friendly:\n",
        "   * Versatility\n",
        "   * Large and Active Community: Python has a vast and supportive community of developers,  libraries, and frameworks for assistance and collaboration.\n",
        "   * Extensive Libraries\n",
        "   * Cross-platform Compatibility: Python code runs on various operating systems, including Windows, macOS, and Linux, ensuring flexibility.\n",
        "   * Open Source an free\n",
        "\n",
        "\n",
        "\n"
      ],
      "metadata": {
        "id": "wFIzvzLGzKBb"
      }
    },
    {
      "cell_type": "markdown",
      "source": [
        "2. What is an interpreter in Python?"
      ],
      "metadata": {
        "id": "GCZOALvVjnsD"
      }
    },
    {
      "cell_type": "markdown",
      "source": [
        "=>  The Python interpreter is a program that reads and executes Python code. It\n",
        "    acts as a bridge between your code and computer's hardware, allowing your instructions to be understood and carried out."
      ],
      "metadata": {
        "id": "Eq9hAKS2jvgx"
      }
    },
    {
      "cell_type": "markdown",
      "source": [
        "3. What are pre-defined keywords in Python?\n"
      ],
      "metadata": {
        "id": "kK9PCzw4kTTp"
      }
    },
    {
      "cell_type": "markdown",
      "source": [
        "=> Pre-defined keywords in Python are reserved words that have special meanings\n",
        "    and purposes within the language. They cannot be used as identifiers (variable names, function names, etc.). These keywords are essential for controlling the flow of your program. Some example of pre-defined keywords in python are:- True,false,if,else,elif...etc,"
      ],
      "metadata": {
        "id": "3mz4SpUxkdWN"
      }
    },
    {
      "cell_type": "markdown",
      "source": [
        "4. Can keywords be used as variable namesl?"
      ],
      "metadata": {
        "id": "AEJQuoralbmu"
      }
    },
    {
      "cell_type": "markdown",
      "source": [
        "=> No, keywords cannot be used as variable names in Python.\n",
        "    Keywords are reserved words with predefined meanings and functionalities within the Python language. They are used to define the structure and logic of your code. If you try to use a keyword as a variable name, it will cause a syntax error."
      ],
      "metadata": {
        "id": "u3D8BZOQll2I"
      }
    },
    {
      "cell_type": "markdown",
      "source": [
        "5. What is mutability in Python?\n"
      ],
      "metadata": {
        "id": "L2FDS1gHmKiM"
      }
    },
    {
      "cell_type": "markdown",
      "source": [
        "=> mutability refers to the ability of an object to be changed after it is\n",
        "    created. If an object can be modified, it is considered mutable. If it cannot be changed, it is considered immutable.\n",
        "  * Examples of mutable and immutable;\n",
        "        1:- `lists[]` are mutable because, list can be modified.\n",
        "        2:- `Tuples()` are immutable because,Tuples can't be modified"
      ],
      "metadata": {
        "id": "AXUwFr8SmdF7"
      }
    },
    {
      "cell_type": "markdown",
      "source": [
        "6.  Why are lists mutable, but tuples are immutable"
      ],
      "metadata": {
        "id": "H3p_b7iCnuI_"
      }
    },
    {
      "cell_type": "markdown",
      "source": [
        "=> Mutability refers to the ability of an object to be changed after it's\n",
        "    created. Lists are mutable, meaning you can modify their elements (add, remove, or change values) after the list is created. Tuples, on the other hand, are immutable, meaning their elements cannot be changed once the tuple is defined."
      ],
      "metadata": {
        "id": "9lC6afVcpYAa"
      }
    },
    {
      "cell_type": "markdown",
      "source": [
        "7. What is the difference between `==` and `is` operators in Python?"
      ],
      "metadata": {
        "id": "f8DoAz3BpjA4"
      }
    },
    {
      "cell_type": "markdown",
      "source": [
        "=> Both operators are used for comparisons, but they have distinct\n",
        "    functionalities:\n",
        "   * `==` (Equality Operator):\n",
        "    Compares values: The `==` operator checks if the values of two objects are equal. It evaluates to True if the objects have the same value, regardless of their memory location.\n",
        "   * `is` (Identity Operator):\n",
        "    Compares memory addresses: The is operator checks if two variables point to the same object in memory. It evaluates to True only if both variables refer to the same memory location."
      ],
      "metadata": {
        "id": "-ZLgT0zQppR5"
      }
    },
    {
      "cell_type": "code",
      "source": [
        "# == (Equality Operator):\n",
        "a = [1, 2, 3]\n",
        "b = [1, 2, 3]\n",
        "print(a == b)  # Output: True (because the values are the same)\n",
        "\n",
        "# is (Identity Operator):\n",
        "a = [1, 2, 3]\n",
        "b = a\n",
        "print(a is b)  # Output: True (because both variables point to the same object)"
      ],
      "metadata": {
        "id": "sK75X8--qbYe"
      },
      "execution_count": null,
      "outputs": []
    },
    {
      "cell_type": "markdown",
      "source": [
        "8. What are logical operators in Python?"
      ],
      "metadata": {
        "id": "KANTP93brW-2"
      }
    },
    {
      "cell_type": "markdown",
      "source": [
        "=> Logical operators are used to combine or modify Boolean expressions\n",
        "    (expressions that evaluate to either True or False). They allow you to create more complex conditions and control the flow of your programs based on multiple criteria.Here are the logical operators in Python:-\n",
        "   * and (Logical AND):\n",
        "   *  or (Logical OR):\n",
        "   *   not (Logical NOT):"
      ],
      "metadata": {
        "id": "qCteSpEfrdpU"
      }
    },
    {
      "cell_type": "markdown",
      "source": [
        "9. What is type casting in Python?"
      ],
      "metadata": {
        "id": "hIsSb3EUsI1P"
      }
    },
    {
      "cell_type": "markdown",
      "source": [
        "=>  Type casting, also known as type conversion, is the process of changing the\n",
        "    data type of a variable from one type to another. Python provides several built-in functions for performing type casting."
      ],
      "metadata": {
        "id": "5sk5pDersOi4"
      }
    },
    {
      "cell_type": "markdown",
      "source": [
        "10. What is the difference between implicit and explicit type casting"
      ],
      "metadata": {
        "id": "c4YxtWt2s_9P"
      }
    },
    {
      "cell_type": "markdown",
      "source": [
        "=> Implicit Type Casting:\n",
        "\n",
        "    Automatic conversion: It's performed by the Python interpreter automatically, without any explicit instruction from the programmer.\n",
        "    Data type promotion: It typically occurs when operations involve different data types, and Python automatically converts the operands to a common type to perform the operation.\n",
        "\n",
        " Explicit Type Casting:\n",
        "\n",
        "    Manual conversion: It's performed by the programmer using type casting functions (e.g., int(), float(), str()).\n",
        "    Control over conversion: It gives you explicit control over the data type conversion process."
      ],
      "metadata": {
        "id": "SCmZVoqhtNac"
      }
    },
    {
      "cell_type": "markdown",
      "source": [
        "11. What is the purpose of conditional statements in Python?"
      ],
      "metadata": {
        "id": "vRFkUrfxulc7"
      }
    },
    {
      "cell_type": "markdown",
      "source": [
        "=> Conditional statements are fundamental programming constructs that allow you\n",
        "    to control the flow of execution based on certain conditions. They enable your program to make decisions and execute different blocks of code depending on whether a condition is true or false.\n",
        "    Purpose:-\n",
        "   *  Decision making\n",
        "   *  Selective execution\n",
        "   *  Dynamic behavior"
      ],
      "metadata": {
        "id": "JuDgfc2au3Cn"
      }
    },
    {
      "cell_type": "markdown",
      "source": [
        "12. How does the elif statement work?"
      ],
      "metadata": {
        "id": "XC2I5P-mvrvs"
      }
    },
    {
      "cell_type": "markdown",
      "source": [
        "=> The elif statement is a part of Python's conditional execution structure, used in conjunction with if and else statements to allow your program to make decisions based on multiple conditions."
      ],
      "metadata": {
        "id": "cg7zrzN2vzOB"
      }
    },
    {
      "cell_type": "code",
      "source": [
        "# example of else statement\n",
        "score = 85\n",
        "\n",
        "if score >= 90:\n",
        "  print(\"Grade: A\")\n",
        "elif score >= 80:\n",
        "  print(\"Grade: B\")\n",
        "elif score >= 70:\n",
        "  print(\"Grade: C\")\n",
        "else:\n",
        "  print(\"Grade: D\")"
      ],
      "metadata": {
        "id": "xPFNgfdQwLVw"
      },
      "execution_count": null,
      "outputs": []
    },
    {
      "cell_type": "markdown",
      "source": [
        "13.  What is the difference between for and while loops?"
      ],
      "metadata": {
        "id": "TzcIy-cDwSj7"
      }
    },
    {
      "cell_type": "markdown",
      "source": [
        "=> Both for and while loops are used for iteration, but they differ in how they\n",
        "    control the repetition:\n",
        "\n",
        "    for loop:\n",
        "  Iterates over a sequence: It's used to iterate over a sequence of items, such as a list, tuple, string, or range.\n",
        "  Definite iteration: It knows the number of iterations in advance, determined by the length of the sequence.\n",
        "\n",
        "    while loop:\n",
        "\n",
        "  Continues until a condition is False: It repeatedly executes a block of code as long as a given condition is True.\n",
        "  Indefinite iteration: It doesn't know the number of iterations beforehand; it depends on when the condition becomes False."
      ],
      "metadata": {
        "id": "V5YNO_LZwYy8"
      }
    },
    {
      "cell_type": "code",
      "source": [
        "# example of \"for\" loop :\n",
        "fruits = [\"apple\", \"banana\", \"cherry\"]\n",
        "for fruit in fruits:\n",
        "  print(fruit)\n",
        "\n",
        "# example of \"while\" loop :\n",
        "count = 0\n",
        "while count < 5:\n",
        "  print(count)\n",
        "  count += 1\n"
      ],
      "metadata": {
        "id": "EHH0nzl2w81U"
      },
      "execution_count": null,
      "outputs": []
    },
    {
      "cell_type": "markdown",
      "source": [
        "14. Describe a scenario where a while loop is more suitable than a for loop."
      ],
      "metadata": {
        "id": "0B3FZD-exRc5"
      }
    },
    {
      "cell_type": "markdown",
      "source": [
        "=> Consider a simple game where the player controls a character and the game\n",
        "    continues until the character loses all their lives or completes a specific objective.\n",
        "\n",
        "    Why while loop is better:\n",
        "\n",
        "  Indefinite game duration: The game's duration is not predetermined and depends on player actions and game events.\n",
        "  Event-driven execution: The loop needs to continue running, processing user input, updating game state, and rendering graphics until a termination condition (e.g., game over) is met."
      ],
      "metadata": {
        "id": "uKG1cd_vxY7X"
      }
    },
    {
      "cell_type": "markdown",
      "source": [
        "#Practical Questions\n"
      ],
      "metadata": {
        "id": "fPrf-quDyUib"
      }
    },
    {
      "cell_type": "markdown",
      "source": [
        "1. Write a Python program to print \"Hello, World!\""
      ],
      "metadata": {
        "id": "_0lI4xX9yd76"
      }
    },
    {
      "cell_type": "code",
      "source": [
        "#code for the above ques.\n",
        "a =  \"Hello, World!\"\n",
        "print(a)"
      ],
      "metadata": {
        "colab": {
          "base_uri": "https://localhost:8080/"
        },
        "id": "Iv_Rn_-CyzjH",
        "outputId": "5a5a20fd-e7fc-4c21-add1-0b4a87edfe77"
      },
      "execution_count": 1,
      "outputs": [
        {
          "output_type": "stream",
          "name": "stdout",
          "text": [
            "Hello, World!\n"
          ]
        }
      ]
    },
    {
      "cell_type": "markdown",
      "source": [
        "2. Write a Python program that displays your name and age.\n"
      ],
      "metadata": {
        "id": "x8gR0jYozFhf"
      }
    },
    {
      "cell_type": "code",
      "source": [
        "#code for the above ques.\n",
        "name = \"Aryan Dhiman\"\n",
        "age = 21\n",
        "print(f\"My name is {name} and I am {age} years old.\")"
      ],
      "metadata": {
        "colab": {
          "base_uri": "https://localhost:8080/"
        },
        "id": "77-XyC4fzKRA",
        "outputId": "ce198310-b62f-4f8e-eaaf-b110e5fc8392"
      },
      "execution_count": 3,
      "outputs": [
        {
          "output_type": "stream",
          "name": "stdout",
          "text": [
            "My name is Aryan Dhiman and I am 21 years old.\n"
          ]
        }
      ]
    },
    {
      "cell_type": "markdown",
      "source": [
        "3. Write code to print all the pre-defined keywords in Python using the keyword\n",
        "    library"
      ],
      "metadata": {
        "id": "c9orpPML0Nt_"
      }
    },
    {
      "cell_type": "code",
      "source": [
        "#code for the above ques.\n",
        "import keyword\n",
        "keywords = keyword.kwlist\n",
        "print(\"Pre-defined keywords in Python:\")\n",
        "for kw in keywords:\n",
        "  print(kw)"
      ],
      "metadata": {
        "id": "_iu1FCyr0Tx8"
      },
      "execution_count": null,
      "outputs": []
    },
    {
      "cell_type": "markdown",
      "source": [
        "4. Write a program that checks if a given word is a Python keyword."
      ],
      "metadata": {
        "id": "UtTl1-IeVkMQ"
      }
    },
    {
      "cell_type": "code",
      "source": [
        "#code for the above ques.\n",
        "import keyword\n",
        "def is_keyword(word):\n",
        "  return keyword.iskeyword(word)\n",
        "word = input(\"Enter a word: \")\n",
        "if is_keyword(word):\n",
        "  print(f\"'{word}' is a Python keyword.\")\n",
        "else:\n",
        "  print(f\"'{word}' is not a Python keyword.\")"
      ],
      "metadata": {
        "colab": {
          "base_uri": "https://localhost:8080/"
        },
        "id": "p2sAsC1mVras",
        "outputId": "8f6a96fa-5b39-41a1-82e0-9eb0e07db455"
      },
      "execution_count": 2,
      "outputs": [
        {
          "output_type": "stream",
          "name": "stdout",
          "text": [
            "Enter a word: if\n",
            "'if' is a Python keyword.\n"
          ]
        }
      ]
    },
    {
      "cell_type": "markdown",
      "source": [
        "5.  Create a list and tuple in Python, and demonstrate how attempting to change\n",
        "an element works differently for each."
      ],
      "metadata": {
        "id": "AQ7GDq8ZWbCE"
      }
    },
    {
      "cell_type": "code",
      "source": [
        "#code for the above ques.\n",
        "my_list = [1, 2, 3]\n",
        "my_tuple = (1, 2, 3)\n",
        "\n",
        "my_list[0] = 10 #we can modify list, because list are mutable\n",
        "\n",
        "# Attempt to change an element in the tuple\n",
        "# my_tuple[0] = 10  # This will raise a TypeError, Because tuples are immutable and can't be modified\n",
        "print(\"List:\", my_list)\n",
        "print(\"Tuple:\", my_tuple)"
      ],
      "metadata": {
        "colab": {
          "base_uri": "https://localhost:8080/"
        },
        "id": "vhh0ZKfYWkod",
        "outputId": "6b166d2f-6dec-4933-a4db-228550669d5f"
      },
      "execution_count": 3,
      "outputs": [
        {
          "output_type": "stream",
          "name": "stdout",
          "text": [
            "List: [10, 2, 3]\n",
            "Tuple: (1, 2, 3)\n"
          ]
        }
      ]
    },
    {
      "cell_type": "markdown",
      "source": [
        "6.  Write a function to demonstrate the behavior of mutable and immutable arguments."
      ],
      "metadata": {
        "id": "dR0Xot4-XnOw"
      }
    },
    {
      "source": [
        "#code for the above ques.\n",
        "def modify_list(my_list):\n",
        "  my_list.append(4)\n",
        "def modify_number(number):\n",
        "  number += 1\n",
        "original_list = [1, 2, 3]\n",
        "original_number = 10\n",
        "modify_list(original_list)\n",
        "modify_number(original_number)\n",
        "print(\"Original_List:\", original_list)\n",
        "print(\"Original_Number:\", original_number)"
      ],
      "cell_type": "code",
      "metadata": {
        "colab": {
          "base_uri": "https://localhost:8080/"
        },
        "id": "CyJJ2n2DYIo1",
        "outputId": "1031350d-1db4-4286-9d1d-1853bedbe4a1"
      },
      "execution_count": 6,
      "outputs": [
        {
          "output_type": "stream",
          "name": "stdout",
          "text": [
            "Original_List: [1, 2, 3, 4]\n",
            "Original_Number: 10\n"
          ]
        }
      ]
    },
    {
      "cell_type": "markdown",
      "source": [
        "7.  Write a program that performs basic arithmetic operations on two user-input numbers."
      ],
      "metadata": {
        "id": "-8w5FMs8ZLIs"
      }
    },
    {
      "cell_type": "code",
      "source": [
        "#code for the above ques.\n",
        "num1 = float(input(\"Enter the first number: \"))\n",
        "num2 = float(input(\"Enter the second number: \"))\n",
        "\n",
        "addition = num1 + num2\n",
        "subtraction = num1 - num2\n",
        "multiplication = num1 * num2\n",
        "division = num1 / num2\n",
        "\n",
        "print(\"Addition:\", addition)\n",
        "print(\"Subtraction:\", subtraction)\n",
        "print(\"Multiplication:\", multiplication)\n",
        "print(\"Division:\", division)"
      ],
      "metadata": {
        "id": "Ksa0fUxVZPYO"
      },
      "execution_count": null,
      "outputs": []
    },
    {
      "cell_type": "markdown",
      "source": [
        "8.  Write a program to demonstrate the use of logical operators."
      ],
      "metadata": {
        "id": "zoc0piQQZs4G"
      }
    },
    {
      "cell_type": "code",
      "source": [
        "#code for the above ques.\n",
        "age = int(input(\"Enter your age: \"))\n",
        "has_license = input(\"Do you have a driver's license? (yes/no): \")\n",
        "\n",
        "if age >= 18 and has_license.lower() == \"yes\":\n",
        "  print(\"You are eligible to drive.\")\n",
        "elif age < 18:\n",
        "  print(\"You are not eligible to drive due to age restrictions.\")\n",
        "else:\n",
        "  print(\"You are not eligible to drive due to license requirements.\")"
      ],
      "metadata": {
        "id": "gYbBqEyPZ4jM"
      },
      "execution_count": null,
      "outputs": []
    },
    {
      "cell_type": "code",
      "source": [
        "9.  Write a Python program to convert user input from string to integer, float, and boolean types."
      ],
      "metadata": {
        "id": "uso3QayKbBwa"
      },
      "execution_count": null,
      "outputs": []
    },
    {
      "cell_type": "code",
      "source": [
        "#code for the above ques.\n",
        "input_str = input(\"Enter a value: \")\n",
        "try:\n",
        "  integer_value = int(input_str)\n",
        "  print(\"Integer:\", integer_value)\n",
        "except ValueError:\n",
        "  print(\"Invalid input for integer conversion.\")\n",
        "try:\n",
        "  float_value = float(input_str)\n",
        "  print(\"Float:\", float_value)\n",
        "except ValueError:\n",
        "  print(\"Invalid input for float conversion.\")\n",
        "if input_str.lower() in [\"true\", \"1\", \"t\", \"y\", \"yes\"]:\n",
        "  boolean_value = True\n",
        "elif input_str.lower() in [\"false\", \"0\", \"f\", \"n\", \"no\"]:\n",
        "  boolean_value = False\n",
        "else:\n",
        "  print(\"Invalid input for boolean conversion.\")\n",
        "\n",
        "if \"boolean_value\" in locals():\n",
        "  print(\"Boolean:\", boolean_value)\n"
      ],
      "metadata": {
        "id": "aTBV87gnbG3n"
      },
      "execution_count": null,
      "outputs": []
    },
    {
      "cell_type": "markdown",
      "source": [
        "10.  Write code to demonstrate type casting with list elements.\n"
      ],
      "metadata": {
        "id": "XOkyura3cPG_"
      }
    },
    {
      "cell_type": "code",
      "source": [
        "#code for the above ques.\n",
        "string_list = [\"10\", \"20\", \"30\"]\n",
        "integer_list = [int(item) for item in string_list]\n",
        "print(integer_list)"
      ],
      "metadata": {
        "colab": {
          "base_uri": "https://localhost:8080/"
        },
        "id": "5sYlPdSZcT66",
        "outputId": "859727a0-2f89-4fad-b38f-3dcef7ee2d38"
      },
      "execution_count": 15,
      "outputs": [
        {
          "output_type": "stream",
          "name": "stdout",
          "text": [
            "[10, 20, 30]\n"
          ]
        }
      ]
    },
    {
      "cell_type": "markdown",
      "source": [
        "11.  Write a program that checks if a number is positive, negative, or zero."
      ],
      "metadata": {
        "id": "hb9Hf5OCdNuH"
      }
    },
    {
      "cell_type": "code",
      "source": [
        "#code for the above ques.\n",
        "number = float(input(\"Enter a number: \"))\n",
        "if number > 0:\n",
        "  print(\"The number is positive.\")\n",
        "elif number < 0:\n",
        "  print(\"The number is negative.\")\n",
        "else:\n",
        "  print(\"The number is zero.\")\n"
      ],
      "metadata": {
        "colab": {
          "base_uri": "https://localhost:8080/"
        },
        "id": "FBqdfEtSdSI-",
        "outputId": "5f3e0afa-1aa1-45e1-80d0-dc3910ec680f"
      },
      "execution_count": 17,
      "outputs": [
        {
          "output_type": "stream",
          "name": "stdout",
          "text": [
            "Enter a number: 0\n",
            "The number is zero.\n"
          ]
        }
      ]
    },
    {
      "cell_type": "markdown",
      "source": [
        "12.  Write a for loop to print numbers from 1 to 10."
      ],
      "metadata": {
        "id": "h0J_FzdUdj3q"
      }
    },
    {
      "cell_type": "code",
      "source": [
        "#code for the above ques.\n",
        "for i in range(1,11):\n",
        "  print(i)"
      ],
      "metadata": {
        "colab": {
          "base_uri": "https://localhost:8080/"
        },
        "id": "vFtIJtsDdoCS",
        "outputId": "7351cf94-7979-45cf-b23f-8b1d94308311"
      },
      "execution_count": 20,
      "outputs": [
        {
          "output_type": "stream",
          "name": "stdout",
          "text": [
            "1\n",
            "2\n",
            "3\n",
            "4\n",
            "5\n",
            "6\n",
            "7\n",
            "8\n",
            "9\n",
            "10\n"
          ]
        }
      ]
    },
    {
      "cell_type": "markdown",
      "source": [
        "13. Write a Python program to find the sum of all even numbers between 1 and 50.\n"
      ],
      "metadata": {
        "id": "SgFxlmoVeEzE"
      }
    },
    {
      "cell_type": "code",
      "source": [
        "#code for the above ques.\n",
        "total_sum = 0\n",
        "for number in range(2, 51, 2):\n",
        "  total_sum += number\n",
        "\n",
        "print(\"Sum of even numbers:\", total_sum)"
      ],
      "metadata": {
        "colab": {
          "base_uri": "https://localhost:8080/"
        },
        "id": "jibSs4LUeJsq",
        "outputId": "e0590fd4-d2f6-476c-8fdf-84474d9ee496"
      },
      "execution_count": 21,
      "outputs": [
        {
          "output_type": "stream",
          "name": "stdout",
          "text": [
            "Sum of even numbers: 650\n"
          ]
        }
      ]
    },
    {
      "cell_type": "markdown",
      "source": [
        "14. Write a program to reverse a string using a while loop."
      ],
      "metadata": {
        "id": "BZZ6hZQ3euLc"
      }
    },
    {
      "cell_type": "code",
      "source": [
        "#code for the above ques.\n",
        "def reverse(text):\n",
        "  reversed = \"\"\n",
        "  for char in text:\n",
        "    reversed = char + reversed\n",
        "  return reversed\n",
        "string = input(\"\")\n",
        "reversed_string = reverse(string)\n",
        "print(f\"Reversed string: {reversed_string}\")"
      ],
      "metadata": {
        "colab": {
          "base_uri": "https://localhost:8080/"
        },
        "id": "3pNuITouexoY",
        "outputId": "ab1a1846-aeec-40c5-f7a5-6198f097abe0"
      },
      "execution_count": 22,
      "outputs": [
        {
          "output_type": "stream",
          "name": "stdout",
          "text": [
            "Aryan\n",
            "Reversed string: nayrA\n"
          ]
        }
      ]
    },
    {
      "cell_type": "markdown",
      "source": [
        "15. Write a Python program to calculate the factorial of a number provided by the user using a while loop."
      ],
      "metadata": {
        "id": "gHOjfDawfae7"
      }
    },
    {
      "cell_type": "code",
      "source": [
        "#code for the above ques.\n",
        "num = int(input(\"Enter a non-negative integer: \"))\n",
        "factorial = 1\n",
        "i = 1\n",
        "while i <= num:\n",
        "  factorial *= i\n",
        "  i += 1\n",
        "print(\"Factorial of\", num, \"is\", factorial)"
      ],
      "metadata": {
        "colab": {
          "base_uri": "https://localhost:8080/"
        },
        "id": "nzdHC57IffQX",
        "outputId": "31dfdfa5-5f16-427a-9ec5-3bf18fc636eb"
      },
      "execution_count": 23,
      "outputs": [
        {
          "output_type": "stream",
          "name": "stdout",
          "text": [
            "Enter a non-negative integer: 6\n",
            "Factorial of 6 is 720\n"
          ]
        }
      ]
    }
  ]
}